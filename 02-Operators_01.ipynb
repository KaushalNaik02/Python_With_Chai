{
 "cells": [
  {
   "cell_type": "markdown",
   "id": "236ea858",
   "metadata": {},
   "source": [
    "### Operators"
   ]
  },
  {
   "cell_type": "markdown",
   "id": "394eb105",
   "metadata": {},
   "source": [
    "##### Arithmetic Operators"
   ]
  },
  {
   "cell_type": "code",
   "execution_count": 2,
   "id": "84fe6273",
   "metadata": {},
   "outputs": [
    {
     "name": "stdout",
     "output_type": "stream",
     "text": [
      "30\n",
      "200\n",
      "0.5\n",
      "0\n"
     ]
    }
   ],
   "source": [
    "a = 10\n",
    "b = 20\n",
    "print(a+b)\n",
    "print(a*b)\n",
    "print(a/b)\n",
    "print(a//b)"
   ]
  },
  {
   "cell_type": "markdown",
   "id": "2a3a920e",
   "metadata": {},
   "source": [
    "##### Comparison operators"
   ]
  },
  {
   "cell_type": "code",
   "execution_count": 5,
   "id": "131d4472",
   "metadata": {},
   "outputs": [
    {
     "name": "stdout",
     "output_type": "stream",
     "text": [
      "False\n",
      "True\n",
      "True\n",
      "False\n"
     ]
    }
   ],
   "source": [
    "a = 10\n",
    "b = 50\n",
    "print(a == b)\n",
    "print(a != b)\n",
    "print(a < b)\n",
    "print(a > b)"
   ]
  },
  {
   "cell_type": "markdown",
   "id": "8449c275",
   "metadata": {},
   "source": [
    "##### Logical Operators"
   ]
  },
  {
   "cell_type": "code",
   "execution_count": 10,
   "id": "8596572c",
   "metadata": {},
   "outputs": [
    {
     "name": "stdout",
     "output_type": "stream",
     "text": [
      "a or b is greater than 5 or 30\n"
     ]
    }
   ],
   "source": [
    "a=10\n",
    "b=20\n",
    "c=30\n",
    "if a>5 and b>30:\n",
    "    print(\"a and b are greater than 5 and 10\")  \n",
    "elif a>5 or b>30:\n",
    "    print(\"a or b is greater than 5 or 30\")\n"
   ]
  },
  {
   "cell_type": "markdown",
   "id": "ab666f69",
   "metadata": {},
   "source": [
    "##### Bitwise Operator"
   ]
  },
  {
   "cell_type": "code",
   "execution_count": 12,
   "id": "fa190e5e",
   "metadata": {},
   "outputs": [
    {
     "name": "stdout",
     "output_type": "stream",
     "text": [
      "10\n"
     ]
    }
   ],
   "source": [
    "a = 10\n",
    "b = 30\n",
    "print(a & b)"
   ]
  },
  {
   "cell_type": "markdown",
   "id": "e8e371ac",
   "metadata": {},
   "source": [
    "##### Assignment Operators"
   ]
  },
  {
   "cell_type": "code",
   "execution_count": 19,
   "id": "36dc82ce",
   "metadata": {},
   "outputs": [
    {
     "name": "stdout",
     "output_type": "stream",
     "text": [
      "50\n"
     ]
    }
   ],
   "source": [
    "a=20\n",
    "b=30\n",
    "a+=b\n",
    "print(a)"
   ]
  },
  {
   "cell_type": "markdown",
   "id": "a4453cab",
   "metadata": {},
   "source": [
    "##### Membership Operators"
   ]
  },
  {
   "cell_type": "code",
   "execution_count": 20,
   "id": "2a22bb42",
   "metadata": {},
   "outputs": [
    {
     "name": "stdout",
     "output_type": "stream",
     "text": [
      "True\n"
     ]
    }
   ],
   "source": [
    "print(\"a\" in \"kaushal\")"
   ]
  },
  {
   "cell_type": "code",
   "execution_count": 21,
   "id": "6284daf1",
   "metadata": {},
   "outputs": [
    {
     "name": "stdout",
     "output_type": "stream",
     "text": [
      "False\n"
     ]
    }
   ],
   "source": [
    "print(\"a\" not in \"kaushal\")"
   ]
  },
  {
   "cell_type": "markdown",
   "id": "4d431032",
   "metadata": {},
   "source": [
    "##### Identity Operators"
   ]
  },
  {
   "cell_type": "code",
   "execution_count": 24,
   "id": "9c5edd8c",
   "metadata": {},
   "outputs": [
    {
     "name": "stdout",
     "output_type": "stream",
     "text": [
      "True\n",
      "False\n"
     ]
    }
   ],
   "source": [
    "x = 10\n",
    "y = 10\n",
    "print(x is y)\n",
    "print(x is not y)"
   ]
  },
  {
   "cell_type": "markdown",
   "id": "48fb69ef",
   "metadata": {},
   "source": [
    "### Strings"
   ]
  },
  {
   "cell_type": "code",
   "execution_count": null,
   "id": "f771e5ca",
   "metadata": {},
   "outputs": [],
   "source": []
  }
 ],
 "metadata": {
  "kernelspec": {
   "display_name": "DS_all_lib",
   "language": "python",
   "name": "python3"
  },
  "language_info": {
   "codemirror_mode": {
    "name": "ipython",
    "version": 3
   },
   "file_extension": ".py",
   "mimetype": "text/x-python",
   "name": "python",
   "nbconvert_exporter": "python",
   "pygments_lexer": "ipython3",
   "version": "3.10.5"
  }
 },
 "nbformat": 4,
 "nbformat_minor": 5
}
