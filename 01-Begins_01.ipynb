{
 "cells": [
  {
   "cell_type": "markdown",
   "id": "a9ffc824",
   "metadata": {},
   "source": [
    "### Python Foundation"
   ]
  },
  {
   "cell_type": "code",
   "execution_count": 16,
   "id": "9f092339",
   "metadata": {},
   "outputs": [
    {
     "name": "stdout",
     "output_type": "stream",
     "text": [
      "kauishal\n",
      "<class 'str'>\n"
     ]
    }
   ],
   "source": [
    "user = input(\"Enter your name: \")\n",
    "print(user)\n",
    "print(type(user))"
   ]
  },
  {
   "cell_type": "code",
   "execution_count": 17,
   "id": "8a5d0751",
   "metadata": {},
   "outputs": [
    {
     "name": "stdout",
     "output_type": "stream",
     "text": [
      "34\n",
      "<class 'int'>\n"
     ]
    }
   ],
   "source": [
    "user_int = int(input(\"Enter your name: \"))\n",
    "print(user_int)\n",
    "print(type(user_int))"
   ]
  },
  {
   "cell_type": "markdown",
   "id": "22654f69",
   "metadata": {},
   "source": [
    "##### Below Block of code will get error"
   ]
  },
  {
   "cell_type": "code",
   "execution_count": null,
   "id": "00710b28",
   "metadata": {},
   "outputs": [
    {
     "ename": "ValueError",
     "evalue": "not enough values to unpack (expected 3, got 2)",
     "output_type": "error",
     "traceback": [
      "\u001b[1;31m---------------------------------------------------------------------------\u001b[0m",
      "\u001b[1;31mValueError\u001b[0m                                Traceback (most recent call last)",
      "Cell \u001b[1;32mIn[21], line 1\u001b[0m\n\u001b[1;32m----> 1\u001b[0m x,y,z \u001b[38;5;241m=\u001b[39m \u001b[38;5;241m10\u001b[39m,\u001b[38;5;241m20\u001b[39m\n\u001b[0;32m      2\u001b[0m \u001b[38;5;28mprint\u001b[39m(x)\n",
      "\u001b[1;31mValueError\u001b[0m: not enough values to unpack (expected 3, got 2)"
     ]
    }
   ],
   "source": [
    "x,y,z = 10,20    # This will not even assigne values to the x and y\n",
    "print(x)"
   ]
  },
  {
   "cell_type": "markdown",
   "id": "7741ae2e",
   "metadata": {},
   "source": [
    "#### Data Type (Complex)"
   ]
  },
  {
   "cell_type": "code",
   "execution_count": null,
   "id": "48d997b1",
   "metadata": {},
   "outputs": [
    {
     "name": "stdout",
     "output_type": "stream",
     "text": [
      "<class 'int'>\n"
     ]
    }
   ],
   "source": [
    "a = 10 \n",
    "b = 5 + (5*a)\n",
    "# c = 4 + 5k          # If you want to make complex number you should use only J in python... other aplhabets will show error\n",
    "print(type(b))"
   ]
  },
  {
   "cell_type": "code",
   "execution_count": 30,
   "id": "df6548f9",
   "metadata": {},
   "outputs": [
    {
     "name": "stdout",
     "output_type": "stream",
     "text": [
      "<class 'complex'>\n",
      "3.0\n",
      "4.0\n"
     ]
    }
   ],
   "source": [
    "z1 = 3 + 4j          # correct complex number datatype\n",
    "print(type(z1))\n",
    "print(z1.real)\n",
    "print(z1.imag)"
   ]
  },
  {
   "cell_type": "code",
   "execution_count": null,
   "id": "ce8e67e4",
   "metadata": {},
   "outputs": [],
   "source": []
  },
  {
   "cell_type": "code",
   "execution_count": null,
   "id": "60056300",
   "metadata": {},
   "outputs": [],
   "source": []
  }
 ],
 "metadata": {
  "kernelspec": {
   "display_name": "DS_all_lib",
   "language": "python",
   "name": "python3"
  },
  "language_info": {
   "codemirror_mode": {
    "name": "ipython",
    "version": 3
   },
   "file_extension": ".py",
   "mimetype": "text/x-python",
   "name": "python",
   "nbconvert_exporter": "python",
   "pygments_lexer": "ipython3",
   "version": "3.10.5"
  }
 },
 "nbformat": 4,
 "nbformat_minor": 5
}
