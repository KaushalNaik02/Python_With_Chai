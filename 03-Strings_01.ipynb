{
 "cells": [
  {
   "cell_type": "markdown",
   "id": "1efb26a5",
   "metadata": {},
   "source": [
    "### Strings"
   ]
  },
  {
   "cell_type": "code",
   "execution_count": 24,
   "id": "825ff480",
   "metadata": {},
   "outputs": [
    {
     "name": "stdout",
     "output_type": "stream",
     "text": [
      "<class 'str'>\n"
     ]
    }
   ],
   "source": [
    "name = \"kaushal\"\n",
    "print(type(name))"
   ]
  },
  {
   "cell_type": "code",
   "execution_count": 25,
   "id": "3d8f9f14",
   "metadata": {},
   "outputs": [
    {
     "name": "stdout",
     "output_type": "stream",
     "text": [
      "h\n",
      "s\n"
     ]
    }
   ],
   "source": [
    "print(name[4])\n",
    "print(name[-4])"
   ]
  },
  {
   "cell_type": "markdown",
   "id": "8ae2ee85",
   "metadata": {},
   "source": [
    "### String operations"
   ]
  },
  {
   "cell_type": "code",
   "execution_count": 26,
   "id": "97faca05",
   "metadata": {},
   "outputs": [
    {
     "name": "stdout",
     "output_type": "stream",
     "text": [
      "kausha\n",
      "kuh\n"
     ]
    }
   ],
   "source": [
    "print(name[0:6])\n",
    "print(name[0:6:2])"
   ]
  },
  {
   "cell_type": "code",
   "execution_count": null,
   "id": "8d205f34",
   "metadata": {},
   "outputs": [
    {
     "name": "stdout",
     "output_type": "stream",
     "text": [
      "usha\n",
      "\n"
     ]
    }
   ],
   "source": [
    "print(name[-5:-1])        # Correct\n",
    "print(name[-1:-5])        # Wrong"
   ]
  },
  {
   "cell_type": "code",
   "execution_count": 32,
   "id": "b40fc086",
   "metadata": {},
   "outputs": [
    {
     "name": "stdout",
     "output_type": "stream",
     "text": [
      "shal\n",
      "kau\n"
     ]
    }
   ],
   "source": [
    "print(name[-4:])\n",
    "print(name[:-4])"
   ]
  },
  {
   "cell_type": "code",
   "execution_count": 39,
   "id": "b09551d8",
   "metadata": {},
   "outputs": [
    {
     "name": "stdout",
     "output_type": "stream",
     "text": [
      "lahsuak\n",
      "lhuk\n"
     ]
    }
   ],
   "source": [
    "print(name[::-1])             # resersing string\n",
    "print(name[::-2])  "
   ]
  },
  {
   "cell_type": "code",
   "execution_count": null,
   "id": "0a9058fa",
   "metadata": {},
   "outputs": [
    {
     "name": "stdout",
     "output_type": "stream",
     "text": [
      "k\n"
     ]
    },
    {
     "ename": "TypeError",
     "evalue": "'str' object does not support item assignment",
     "output_type": "error",
     "traceback": [
      "\u001b[1;31m---------------------------------------------------------------------------\u001b[0m",
      "\u001b[1;31mTypeError\u001b[0m                                 Traceback (most recent call last)",
      "Cell \u001b[1;32mIn[37], line 3\u001b[0m\n\u001b[0;32m      1\u001b[0m \u001b[38;5;66;03m## String is immutable\u001b[39;00m\n\u001b[0;32m      2\u001b[0m \u001b[38;5;28mprint\u001b[39m(name[\u001b[38;5;241m0\u001b[39m])\n\u001b[1;32m----> 3\u001b[0m \u001b[43mname\u001b[49m\u001b[43m[\u001b[49m\u001b[38;5;241;43m0\u001b[39;49m\u001b[43m]\u001b[49m \u001b[38;5;241m=\u001b[39m \u001b[38;5;124m\"\u001b[39m\u001b[38;5;124mp\u001b[39m\u001b[38;5;124m\"\u001b[39m       \u001b[38;5;66;03m# This will raise an error because string is immuatble\u001b[39;00m\n",
      "\u001b[1;31mTypeError\u001b[0m: 'str' object does not support item assignment"
     ]
    }
   ],
   "source": [
    "## String is immutable\n",
    "print(name[0])\n",
    "name[0] = \"p\"       # This will raise an error because string is immuatable"
   ]
  },
  {
   "cell_type": "markdown",
   "id": "72fdbf2e",
   "metadata": {},
   "source": [
    "### Inbuilt Function"
   ]
  },
  {
   "cell_type": "code",
   "execution_count": 43,
   "id": "b2543409",
   "metadata": {},
   "outputs": [
    {
     "name": "stdout",
     "output_type": "stream",
     "text": [
      "KAUSHAL\n",
      "kaushal\n",
      "Kaushal\n",
      "Kaushal\n"
     ]
    }
   ],
   "source": [
    "print(name.upper())\n",
    "print(name.lower())\n",
    "print(name.capitalize())     # capitalize first char of sentence and removes unwanted capitalize chars in sentence\n",
    "print(name.title())        #each word capitalized"
   ]
  },
  {
   "cell_type": "code",
   "execution_count": 48,
   "id": "c1471515",
   "metadata": {},
   "outputs": [
    {
     "name": "stdout",
     "output_type": "stream",
     "text": [
      "kaushal\n",
      "kauskauskaus\n"
     ]
    }
   ],
   "source": [
    "s1 = \"kaus\"\n",
    "s2 = \"hal\"\n",
    "print(s1+s2)\n",
    "print(s1*3)\n"
   ]
  },
  {
   "cell_type": "code",
   "execution_count": 3,
   "id": "8b226815",
   "metadata": {},
   "outputs": [
    {
     "name": "stdout",
     "output_type": "stream",
     "text": [
      "ABC\n",
      "True\n"
     ]
    }
   ],
   "source": [
    "a = \"abc\"\n",
    "b = \"ABC\"\n",
    "print(a.upper())\n",
    "print(a.upper() == b)"
   ]
  },
  {
   "cell_type": "code",
   "execution_count": null,
   "id": "0a206ce6",
   "metadata": {},
   "outputs": [],
   "source": []
  }
 ],
 "metadata": {
  "kernelspec": {
   "display_name": "DS_all_lib",
   "language": "python",
   "name": "python3"
  },
  "language_info": {
   "codemirror_mode": {
    "name": "ipython",
    "version": 3
   },
   "file_extension": ".py",
   "mimetype": "text/x-python",
   "name": "python",
   "nbconvert_exporter": "python",
   "pygments_lexer": "ipython3",
   "version": "3.10.5"
  }
 },
 "nbformat": 4,
 "nbformat_minor": 5
}
