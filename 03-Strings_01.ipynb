{
 "cells": [
  {
   "cell_type": "markdown",
   "id": "1efb26a5",
   "metadata": {},
   "source": [
    "### Strings"
   ]
  },
  {
   "cell_type": "code",
   "execution_count": 22,
   "id": "825ff480",
   "metadata": {},
   "outputs": [
    {
     "name": "stdout",
     "output_type": "stream",
     "text": [
      "<class 'str'>\n"
     ]
    }
   ],
   "source": [
    "name = \"kaushal\"\n",
    "print(type(name))"
   ]
  },
  {
   "cell_type": "code",
   "execution_count": 23,
   "id": "3d8f9f14",
   "metadata": {},
   "outputs": [
    {
     "name": "stdout",
     "output_type": "stream",
     "text": [
      "h\n",
      "s\n"
     ]
    }
   ],
   "source": [
    "print(name[4])\n",
    "print(name[-4])"
   ]
  },
  {
   "cell_type": "markdown",
   "id": "8ae2ee85",
   "metadata": {},
   "source": [
    "### String operations"
   ]
  },
  {
   "cell_type": "code",
   "execution_count": 24,
   "id": "97faca05",
   "metadata": {},
   "outputs": [
    {
     "name": "stdout",
     "output_type": "stream",
     "text": [
      "kausha\n",
      "kuh\n"
     ]
    }
   ],
   "source": [
    "print(name[0:6])\n",
    "print(name[0:6:2])"
   ]
  },
  {
   "cell_type": "code",
   "execution_count": 25,
   "id": "8d205f34",
   "metadata": {},
   "outputs": [
    {
     "name": "stdout",
     "output_type": "stream",
     "text": [
      "usha\n",
      "\n"
     ]
    }
   ],
   "source": [
    "print(name[-5:-1])        # Correct\n",
    "print(name[-1:-5])        # Wrong"
   ]
  },
  {
   "cell_type": "code",
   "execution_count": null,
   "id": "b40fc086",
   "metadata": {},
   "outputs": [
    {
     "name": "stdout",
     "output_type": "stream",
     "text": [
      "shal\n",
      "kau\n"
     ]
    }
   ],
   "source": [
    "print(name[-4:])\n",
    "print(name[:-4])"
   ]
  },
  {
   "cell_type": "code",
   "execution_count": null,
   "id": "b09551d8",
   "metadata": {},
   "outputs": [
    {
     "name": "stdout",
     "output_type": "stream",
     "text": [
      "lahsuak\n",
      "lhuk\n"
     ]
    }
   ],
   "source": [
    "print(name[::-1])             # resersing string\n",
    "print(name[::-2])  "
   ]
  },
  {
   "cell_type": "code",
   "execution_count": null,
   "id": "0a9058fa",
   "metadata": {},
   "outputs": [
    {
     "name": "stdout",
     "output_type": "stream",
     "text": [
      "k\n"
     ]
    },
    {
     "ename": "TypeError",
     "evalue": "'str' object does not support item assignment",
     "output_type": "error",
     "traceback": [
      "\u001b[1;31m---------------------------------------------------------------------------\u001b[0m",
      "\u001b[1;31mTypeError\u001b[0m                                 Traceback (most recent call last)",
      "Cell \u001b[1;32mIn[28], line 3\u001b[0m\n\u001b[0;32m      1\u001b[0m \u001b[38;5;66;03m## String is immutable\u001b[39;00m\n\u001b[0;32m      2\u001b[0m \u001b[38;5;28mprint\u001b[39m(name[\u001b[38;5;241m0\u001b[39m])\n\u001b[1;32m----> 3\u001b[0m \u001b[43mname\u001b[49m\u001b[43m[\u001b[49m\u001b[38;5;241;43m0\u001b[39;49m\u001b[43m]\u001b[49m \u001b[38;5;241m=\u001b[39m \u001b[38;5;124m\"\u001b[39m\u001b[38;5;124mp\u001b[39m\u001b[38;5;124m\"\u001b[39m       \u001b[38;5;66;03m# This will raise an error because string is immuatable\u001b[39;00m\n",
      "\u001b[1;31mTypeError\u001b[0m: 'str' object does not support item assignment"
     ]
    }
   ],
   "source": [
    "## String is immutable\n",
    "print(name[0])\n",
    "name[0] = \"p\"       # This will raise an error because string is immuatable"
   ]
  },
  {
   "cell_type": "markdown",
   "id": "72fdbf2e",
   "metadata": {},
   "source": [
    "### Inbuilt Function"
   ]
  },
  {
   "cell_type": "code",
   "execution_count": null,
   "id": "b2543409",
   "metadata": {},
   "outputs": [
    {
     "name": "stdout",
     "output_type": "stream",
     "text": [
      "KAUSHAL\n",
      "kaushal\n",
      "Kaushal\n",
      "Kaushal\n"
     ]
    }
   ],
   "source": [
    "print(name.upper())\n",
    "print(name.lower())\n",
    "print(name.capitalize())     # capitalize first char of sentence and removes unwanted capitalize chars in sentence\n",
    "print(name.title())        #each word capitalized"
   ]
  },
  {
   "cell_type": "code",
   "execution_count": null,
   "id": "c1471515",
   "metadata": {},
   "outputs": [
    {
     "name": "stdout",
     "output_type": "stream",
     "text": [
      "kaushal\n",
      "kauskauskaus\n"
     ]
    }
   ],
   "source": [
    "s1 = \"kaus\"\n",
    "s2 = \"hal\"\n",
    "print(s1+s2)\n",
    "print(s1*3)\n"
   ]
  },
  {
   "cell_type": "code",
   "execution_count": null,
   "id": "8b226815",
   "metadata": {},
   "outputs": [
    {
     "name": "stdout",
     "output_type": "stream",
     "text": [
      "ABC\n",
      "True\n"
     ]
    }
   ],
   "source": [
    "a = \"abc\"\n",
    "b = \"ABC\"\n",
    "print(a.upper())\n",
    "print(a.upper() == b)"
   ]
  },
  {
   "cell_type": "markdown",
   "id": "95c428cb",
   "metadata": {},
   "source": [
    "### Advance Strings"
   ]
  },
  {
   "cell_type": "markdown",
   "id": "aa74130f",
   "metadata": {},
   "source": [
    "string comparision"
   ]
  },
  {
   "cell_type": "code",
   "execution_count": null,
   "id": "0a206ce6",
   "metadata": {},
   "outputs": [
    {
     "name": "stdout",
     "output_type": "stream",
     "text": [
      "False\n"
     ]
    }
   ],
   "source": [
    "s1 = \"kaushal\"\n",
    "s2 = \"naik\"\n",
    "print(s1 == s2)"
   ]
  },
  {
   "cell_type": "code",
   "execution_count": null,
   "id": "db458adf",
   "metadata": {},
   "outputs": [
    {
     "name": "stdout",
     "output_type": "stream",
     "text": [
      "66\n"
     ]
    }
   ],
   "source": [
    "print(ord(\"B\"))       ## ASCII CODING"
   ]
  },
  {
   "cell_type": "markdown",
   "id": "4eef32ff",
   "metadata": {},
   "source": [
    "Replace "
   ]
  },
  {
   "cell_type": "code",
   "execution_count": null,
   "id": "b45a3211",
   "metadata": {},
   "outputs": [],
   "source": [
    "name = \"kaushal\"\n",
    "name = name.replace(\"u\",\"0\")"
   ]
  },
  {
   "cell_type": "code",
   "execution_count": null,
   "id": "9be59069",
   "metadata": {},
   "outputs": [
    {
     "name": "stdout",
     "output_type": "stream",
     "text": [
      "ka0shal\n"
     ]
    }
   ],
   "source": [
    "print(name)"
   ]
  },
  {
   "cell_type": "markdown",
   "id": "bf251c8d",
   "metadata": {},
   "source": [
    "split"
   ]
  },
  {
   "cell_type": "code",
   "execution_count": 57,
   "id": "e8b81f56",
   "metadata": {},
   "outputs": [
    {
     "data": {
      "text/plain": [
       "['', 'aushal appa nai', ' appa ', 'aushal']"
      ]
     },
     "execution_count": 57,
     "metadata": {},
     "output_type": "execute_result"
    }
   ],
   "source": [
    "sent= \"kaushal appa naik appa kaushal\"\n",
    "sent.split()   # default split by space\n",
    "sent.split(\"a\")    #split by a\n",
    "sent.split(\"k\")"
   ]
  },
  {
   "cell_type": "code",
   "execution_count": null,
   "id": "63dc948c",
   "metadata": {},
   "outputs": [
    {
     "data": {
      "text/plain": [
       "['this is the great',\n",
       " 'persona ever ',\n",
       " 'no one can beat',\n",
       " ' its always great',\n",
       " '']"
      ]
     },
     "execution_count": 19,
     "metadata": {},
     "output_type": "execute_result"
    }
   ],
   "source": [
    "new_name = \"this is the great.persona ever .no one can beat. its always great.\"\n",
    "new_name.split(\".\")"
   ]
  },
  {
   "cell_type": "code",
   "execution_count": null,
   "id": "5546015e",
   "metadata": {},
   "outputs": [
    {
     "ename": "TypeError",
     "evalue": "can only concatenate str (not \"int\") to str",
     "output_type": "error",
     "traceback": [
      "\u001b[1;31m---------------------------------------------------------------------------\u001b[0m",
      "\u001b[1;31mTypeError\u001b[0m                                 Traceback (most recent call last)",
      "Cell \u001b[1;32mIn[20], line 3\u001b[0m\n\u001b[0;32m      1\u001b[0m \u001b[38;5;66;03m### WE cant conacte the string and int \u001b[39;00m\n\u001b[0;32m      2\u001b[0m age\u001b[38;5;241m=\u001b[39m \u001b[38;5;241m10\u001b[39m\n\u001b[1;32m----> 3\u001b[0m \u001b[38;5;28mprint\u001b[39m(\u001b[38;5;124;43m\"\u001b[39;49m\u001b[38;5;124;43mmy name is \u001b[39;49m\u001b[38;5;124;43m\"\u001b[39;49m\u001b[38;5;241;43m+\u001b[39;49m\u001b[43m \u001b[49m\u001b[43mage\u001b[49m)\n",
      "\u001b[1;31mTypeError\u001b[0m: can only concatenate str (not \"int\") to str"
     ]
    }
   ],
   "source": [
    "### WE cant conacte the string and int \n",
    "age= 10\n",
    "print(\"my age is \"+ age)"
   ]
  },
  {
   "cell_type": "code",
   "execution_count": null,
   "id": "aefd5f5c",
   "metadata": {},
   "outputs": [
    {
     "name": "stdout",
     "output_type": "stream",
     "text": [
      " Hello, i am 10 years old\n"
     ]
    }
   ],
   "source": [
    "# we use formating\n",
    "age = 10\n",
    "print(f\" Hello, i am {age} years old\") "
   ]
  },
  {
   "cell_type": "markdown",
   "id": "8f86e375",
   "metadata": {},
   "source": [
    "Strip"
   ]
  },
  {
   "cell_type": "code",
   "execution_count": null,
   "id": "30c9c6dc",
   "metadata": {},
   "outputs": [
    {
     "name": "stdout",
     "output_type": "stream",
     "text": [
      "kaushal  naik  kaushk  aksy tgdi8    fdfdhfjk0\n",
      "    kaushal  naik  kaushk  aksy tgdi8    fdfdhfjk0   \n"
     ]
    }
   ],
   "source": [
    "name = \"    kaushal  naik  kaushk  aksy tgdi8    fdfdhfjk0   \"\n",
    "strioptext = name.strip()\n",
    "print(strioptext)  ## Removes whitespace from beginng and end\n",
    "print(name)  ## original string"
   ]
  },
  {
   "cell_type": "code",
   "execution_count": null,
   "id": "f9570548",
   "metadata": {},
   "outputs": [
    {
     "name": "stdout",
     "output_type": "stream",
     "text": [
      "kaushal  naik  kaushk  aksy tgdi8    fdfdhfjk0   \n"
     ]
    }
   ],
   "source": [
    "st1 = name.lstrip()     #removes white spaces from left\n",
    "st2 = name.rstrip()      #removes white spaces from right\n",
    "print(st)"
   ]
  },
  {
   "cell_type": "markdown",
   "id": "2db6ac82",
   "metadata": {},
   "source": [
    "Index"
   ]
  },
  {
   "cell_type": "code",
   "execution_count": null,
   "id": "f4418bd9",
   "metadata": {},
   "outputs": [
    {
     "data": {
      "text/plain": [
       "4"
      ]
     },
     "execution_count": 5,
     "metadata": {},
     "output_type": "execute_result"
    }
   ],
   "source": [
    "sname = \"Kaushal Appa Naik\"\n",
    "sname.index(\"hal\")"
   ]
  },
  {
   "cell_type": "markdown",
   "id": "99539398",
   "metadata": {},
   "source": [
    "Find"
   ]
  },
  {
   "cell_type": "code",
   "execution_count": null,
   "id": "eac3725e",
   "metadata": {},
   "outputs": [
    {
     "data": {
      "text/plain": [
       "4"
      ]
     },
     "execution_count": 12,
     "metadata": {},
     "output_type": "execute_result"
    }
   ],
   "source": [
    "sname = \"Kaushal Appa Naik\"\n",
    "sname.find(\"hal\")"
   ]
  },
  {
   "cell_type": "code",
   "execution_count": null,
   "id": "0d0a2db5",
   "metadata": {},
   "outputs": [
    {
     "data": {
      "text/plain": [
       "-1"
      ]
     },
     "execution_count": 16,
     "metadata": {},
     "output_type": "execute_result"
    }
   ],
   "source": [
    "sname.find(\"na\")"
   ]
  },
  {
   "cell_type": "markdown",
   "id": "2c6233bb",
   "metadata": {},
   "source": [
    "#### Functions"
   ]
  },
  {
   "cell_type": "code",
   "execution_count": 37,
   "id": "9bf330cf",
   "metadata": {},
   "outputs": [],
   "source": [
    "name = \"Kaushal Appa NAik is na very intelligent person 123\""
   ]
  },
  {
   "cell_type": "code",
   "execution_count": 38,
   "id": "7595021c",
   "metadata": {},
   "outputs": [
    {
     "data": {
      "text/plain": [
       "1"
      ]
     },
     "execution_count": 38,
     "metadata": {},
     "output_type": "execute_result"
    }
   ],
   "source": [
    "name.count(\"is\")"
   ]
  },
  {
   "cell_type": "code",
   "execution_count": null,
   "id": "9e191e84",
   "metadata": {},
   "outputs": [
    {
     "data": {
      "text/plain": [
       "False"
      ]
     },
     "execution_count": 39,
     "metadata": {},
     "output_type": "execute_result"
    }
   ],
   "source": [
    "name.isalnum()       # false becaus of spaces"
   ]
  },
  {
   "cell_type": "code",
   "execution_count": null,
   "id": "14cdc46a",
   "metadata": {},
   "outputs": [
    {
     "data": {
      "text/plain": [
       "False"
      ]
     },
     "execution_count": 41,
     "metadata": {},
     "output_type": "execute_result"
    }
   ],
   "source": [
    "name.isalpha()       # False because of Spaces"
   ]
  },
  {
   "cell_type": "code",
   "execution_count": 42,
   "id": "e566d830",
   "metadata": {},
   "outputs": [
    {
     "data": {
      "text/plain": [
       "False"
      ]
     },
     "execution_count": 42,
     "metadata": {},
     "output_type": "execute_result"
    }
   ],
   "source": [
    "name.isupper()"
   ]
  },
  {
   "cell_type": "code",
   "execution_count": 43,
   "id": "c9c87ada",
   "metadata": {},
   "outputs": [
    {
     "data": {
      "text/plain": [
       "False"
      ]
     },
     "execution_count": 43,
     "metadata": {},
     "output_type": "execute_result"
    }
   ],
   "source": [
    "name.islower()"
   ]
  },
  {
   "cell_type": "code",
   "execution_count": 49,
   "id": "b88e697a",
   "metadata": {},
   "outputs": [
    {
     "data": {
      "text/plain": [
       "True"
      ]
     },
     "execution_count": 49,
     "metadata": {},
     "output_type": "execute_result"
    }
   ],
   "source": [
    "dig = \"24\"\n",
    "dig.isdigit()"
   ]
  },
  {
   "cell_type": "code",
   "execution_count": 50,
   "id": "311b8c68",
   "metadata": {},
   "outputs": [
    {
     "data": {
      "text/plain": [
       "'kAUSHAL aPPA naIK IS NA VERY INTELLIGENT PERSON 123'"
      ]
     },
     "execution_count": 50,
     "metadata": {},
     "output_type": "execute_result"
    }
   ],
   "source": [
    "name.swapcase()"
   ]
  },
  {
   "cell_type": "markdown",
   "id": "33079b48",
   "metadata": {},
   "source": [
    "#### As string is Immutable so we need to create the new string"
   ]
  },
  {
   "cell_type": "code",
   "execution_count": 54,
   "id": "ebdc0e71",
   "metadata": {},
   "outputs": [
    {
     "name": "stdout",
     "output_type": "stream",
     "text": [
      "Kaushal\n"
     ]
    }
   ],
   "source": [
    "n= \"kaushal\"\n",
    "m = \"K\"+ n[1:7]\n",
    "print(m)"
   ]
  },
  {
   "cell_type": "code",
   "execution_count": null,
   "id": "c5b7f89e",
   "metadata": {},
   "outputs": [],
   "source": []
  }
 ],
 "metadata": {
  "kernelspec": {
   "display_name": "DS_all_lib",
   "language": "python",
   "name": "python3"
  },
  "language_info": {
   "codemirror_mode": {
    "name": "ipython",
    "version": 3
   },
   "file_extension": ".py",
   "mimetype": "text/x-python",
   "name": "python",
   "nbconvert_exporter": "python",
   "pygments_lexer": "ipython3",
   "version": "3.10.5"
  }
 },
 "nbformat": 4,
 "nbformat_minor": 5
}
